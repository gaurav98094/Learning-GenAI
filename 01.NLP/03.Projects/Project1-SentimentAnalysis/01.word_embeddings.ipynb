{
 "cells": [
  {
   "cell_type": "markdown",
   "metadata": {},
   "source": [
    "# Word Embeddings in Tensorflow"
   ]
  },
  {
   "cell_type": "code",
   "execution_count": 5,
   "metadata": {},
   "outputs": [],
   "source": [
    "from tensorflow.keras.preprocessing.text import one_hot"
   ]
  },
  {
   "cell_type": "code",
   "execution_count": 6,
   "metadata": {},
   "outputs": [
    {
     "data": {
      "text/plain": [
       "['the glass of milk',\n",
       " 'the glass of juice',\n",
       " 'the cup of tea',\n",
       " 'I am a good boy',\n",
       " 'I am a good developer',\n",
       " 'understand the meaning of words',\n",
       " 'your videos are good']"
      ]
     },
     "execution_count": 6,
     "metadata": {},
     "output_type": "execute_result"
    }
   ],
   "source": [
    "### sentences\n",
    "sent=[  'the glass of milk',\n",
    "     'the glass of juice',\n",
    "     'the cup of tea',\n",
    "    'I am a good boy',\n",
    "     'I am a good developer',\n",
    "     'understand the meaning of words',\n",
    "     'your videos are good',]\n",
    "sent"
   ]
  },
  {
   "cell_type": "code",
   "execution_count": 7,
   "metadata": {},
   "outputs": [],
   "source": [
    "voc_size = 100"
   ]
  },
  {
   "cell_type": "code",
   "execution_count": 17,
   "metadata": {},
   "outputs": [
    {
     "data": {
      "text/plain": [
       "[[94, 19, 50, 32],\n",
       " [94, 19, 50, 46],\n",
       " [94, 81, 50, 93],\n",
       " [40, 66, 73, 51, 73],\n",
       " [40, 66, 73, 51, 81],\n",
       " [54, 94, 96, 50, 76],\n",
       " [4, 8, 65, 51]]"
      ]
     },
     "execution_count": 17,
     "metadata": {},
     "output_type": "execute_result"
    }
   ],
   "source": [
    "one_hot_repr = [one_hot(words,voc_size) for words in sent]\n",
    "one_hot_repr"
   ]
  },
  {
   "cell_type": "code",
   "execution_count": 19,
   "metadata": {},
   "outputs": [],
   "source": [
    "from tensorflow.keras.layers import Embedding\n",
    "from tensorflow.keras.utils import pad_sequences\n",
    "from tensorflow.keras.models import Sequential"
   ]
  },
  {
   "cell_type": "code",
   "execution_count": 20,
   "metadata": {},
   "outputs": [
    {
     "data": {
      "text/plain": [
       "array([[ 0,  0,  0,  0, 94, 19, 50, 32],\n",
       "       [ 0,  0,  0,  0, 94, 19, 50, 46],\n",
       "       [ 0,  0,  0,  0, 94, 81, 50, 93],\n",
       "       [ 0,  0,  0, 40, 66, 73, 51, 73],\n",
       "       [ 0,  0,  0, 40, 66, 73, 51, 81],\n",
       "       [ 0,  0,  0, 54, 94, 96, 50, 76],\n",
       "       [ 0,  0,  0,  0,  4,  8, 65, 51]], dtype=int32)"
      ]
     },
     "execution_count": 20,
     "metadata": {},
     "output_type": "execute_result"
    }
   ],
   "source": [
    "sent_length = 8 \n",
    "embedded_docs = pad_sequences(one_hot_repr, padding = 'pre', maxlen = sent_length)\n",
    "embedded_docs"
   ]
  },
  {
   "cell_type": "code",
   "execution_count": 21,
   "metadata": {},
   "outputs": [],
   "source": [
    "dim = 10"
   ]
  },
  {
   "cell_type": "code",
   "execution_count": 22,
   "metadata": {},
   "outputs": [],
   "source": [
    "model = Sequential()\n",
    "model.add(Embedding(voc_size, dim, input_length = sent_length))\n",
    "model.compile('adam', 'mse')"
   ]
  },
  {
   "cell_type": "code",
   "execution_count": 23,
   "metadata": {},
   "outputs": [
    {
     "name": "stdout",
     "output_type": "stream",
     "text": [
      "Model: \"sequential\"\n",
      "_________________________________________________________________\n",
      " Layer (type)                Output Shape              Param #   \n",
      "=================================================================\n",
      " embedding (Embedding)       (None, 8, 10)             1000      \n",
      "                                                                 \n",
      "=================================================================\n",
      "Total params: 1000 (3.91 KB)\n",
      "Trainable params: 1000 (3.91 KB)\n",
      "Non-trainable params: 0 (0.00 Byte)\n",
      "_________________________________________________________________\n"
     ]
    }
   ],
   "source": [
    "model.summary()"
   ]
  },
  {
   "cell_type": "code",
   "execution_count": 36,
   "metadata": {},
   "outputs": [
    {
     "data": {
      "text/plain": [
       "array([ 0,  0,  0,  0, 94, 19, 50, 32], dtype=int32)"
      ]
     },
     "execution_count": 36,
     "metadata": {},
     "output_type": "execute_result"
    }
   ],
   "source": [
    "embedded_docs[0]"
   ]
  },
  {
   "cell_type": "code",
   "execution_count": 34,
   "metadata": {},
   "outputs": [
    {
     "name": "stdout",
     "output_type": "stream",
     "text": [
      "1/1 [==============================] - 0s 11ms/step\n"
     ]
    },
    {
     "data": {
      "text/plain": [
       "array([[ 4.5300115e-02,  1.0703731e-02, -2.5765538e-02, -4.7993790e-02,\n",
       "        -2.0935357e-02,  4.6947863e-02,  2.3284767e-02, -4.2795397e-02,\n",
       "        -4.2502739e-02, -1.5045404e-03],\n",
       "       [ 4.5300115e-02,  1.0703731e-02, -2.5765538e-02, -4.7993790e-02,\n",
       "        -2.0935357e-02,  4.6947863e-02,  2.3284767e-02, -4.2795397e-02,\n",
       "        -4.2502739e-02, -1.5045404e-03],\n",
       "       [ 4.5300115e-02,  1.0703731e-02, -2.5765538e-02, -4.7993790e-02,\n",
       "        -2.0935357e-02,  4.6947863e-02,  2.3284767e-02, -4.2795397e-02,\n",
       "        -4.2502739e-02, -1.5045404e-03],\n",
       "       [ 4.5300115e-02,  1.0703731e-02, -2.5765538e-02, -4.7993790e-02,\n",
       "        -2.0935357e-02,  4.6947863e-02,  2.3284767e-02, -4.2795397e-02,\n",
       "        -4.2502739e-02, -1.5045404e-03],\n",
       "       [-1.8849134e-02,  4.6659950e-02, -4.5021582e-02,  3.6912214e-02,\n",
       "        -5.1131099e-04, -3.2190897e-02,  3.0677605e-02, -4.7505379e-02,\n",
       "         1.5103109e-03, -2.9540062e-04],\n",
       "       [-3.3540092e-02, -1.1557244e-02,  4.0039528e-02, -2.8725052e-02,\n",
       "        -1.1823904e-02,  2.4374437e-02,  1.4719963e-03, -3.8146973e-06,\n",
       "         4.9112890e-02,  1.5906382e-02],\n",
       "       [ 4.8589397e-02,  1.3799284e-02,  1.4357690e-02,  4.1965697e-02,\n",
       "         2.2190418e-02, -1.7540764e-02,  2.6347470e-02, -3.1982340e-02,\n",
       "         3.0764733e-02,  5.4944679e-04],\n",
       "       [-2.7369335e-04, -4.0680647e-02, -4.5335997e-02,  2.4248585e-03,\n",
       "        -1.5404843e-02, -4.9666166e-03,  3.8997065e-02, -2.8760469e-02,\n",
       "         3.0174617e-02, -2.1170139e-02]], dtype=float32)"
      ]
     },
     "execution_count": 34,
     "metadata": {},
     "output_type": "execute_result"
    }
   ],
   "source": [
    "model.predict(embedded_docs[0])"
   ]
  }
 ],
 "metadata": {
  "kernelspec": {
   "display_name": "env",
   "language": "python",
   "name": "python3"
  },
  "language_info": {
   "codemirror_mode": {
    "name": "ipython",
    "version": 3
   },
   "file_extension": ".py",
   "mimetype": "text/x-python",
   "name": "python",
   "nbconvert_exporter": "python",
   "pygments_lexer": "ipython3",
   "version": "3.9.6"
  }
 },
 "nbformat": 4,
 "nbformat_minor": 2
}
